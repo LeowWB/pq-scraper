{
 "cells": [
  {
   "cell_type": "markdown",
   "id": "cbdbd63a-9d50-493b-967f-0078c4e50214",
   "metadata": {},
   "source": [
    "run the other notebooks. should give two csv files. this one will combine them and clean up the data too."
   ]
  },
  {
   "cell_type": "code",
   "execution_count": 1,
   "id": "911324d7-4429-41bc-b979-769a705cd945",
   "metadata": {},
   "outputs": [],
   "source": [
    "from bs4 import BeautifulSoup as bs\n",
    "import ast\n",
    "import os\n",
    "import os.path\n",
    "from datetime import datetime\n",
    "from enum import Enum\n",
    "import re\n",
    "import pandas as pd\n",
    "import numpy as np\n"
   ]
  },
  {
   "cell_type": "markdown",
   "id": "c3e9930a-84f1-483a-8415-3c2ec4d98245",
   "metadata": {},
   "source": [
    "**for merging with mps.csv**"
   ]
  },
  {
   "cell_type": "code",
   "execution_count": 2,
   "id": "ce675208-2543-4282-8a8f-eeb5d78f77d3",
   "metadata": {},
   "outputs": [],
   "source": [
    "mp_df = pd.read_csv('mps.csv')\n",
    "mp_df.Party = mp_df.Party.apply(ast.literal_eval)\n",
    "mp_df.Parliaments = mp_df.Parliaments.apply(ast.literal_eval)\n",
    "mps = dict(\n",
    "    zip(mp_df.Name.apply(lambda x: x.replace('.', '').replace(',', '').lower()), # keys\n",
    "    zip(mp_df.Name, mp_df.Party, mp_df.Parliaments))) # values\n",
    "mp_names = list(mps.keys())"
   ]
  },
  {
   "cell_type": "code",
   "execution_count": 3,
   "id": "e3c72765-1e10-4f66-b0c5-de5d4ad837c5",
   "metadata": {},
   "outputs": [],
   "source": [
    "alr_matched = set() # honorific+names that have alr been matched to names so we don't spam the print\n",
    "ministers_found = set() # minister titles that have alr been found (to be used for future searches in case of typos)"
   ]
  },
  {
   "cell_type": "code",
   "execution_count": 4,
   "id": "7a41c038-c9f4-4b92-9313-fe5fccdab091",
   "metadata": {},
   "outputs": [],
   "source": [
    "# for matching honorific+name in report to actual mp data.\n",
    "# cannot simply remove honorific as the programmer doesn't have an exhaustive list\n",
    "# of honorifics, and some are quite rare in everyday use (e.g. Inche Rahamat Bin Kenap).\n",
    "def honorific_name_to_mp_data(honorific_name):\n",
    "    honorific_name = honorific_name.replace('.','').replace(',','').lower()\n",
    "    \n",
    "    # try the easy way first (find and remove honorific)\n",
    "    honorific_match = re.match(r'(mr|mrs|ms|miss|mdm|dr|er dr|prof|assoc prof|asst prof|assoc prof dr|inche|encik)', honorific_name)\n",
    "    if honorific_match:\n",
    "        name = honorific_name[honorific_match.span()[1]+1:]\n",
    "        if name in mps.keys():\n",
    "            return mps[name]\n",
    "        \n",
    "        # seems quite common for them to write \"asked\" twice in the hansard proceedings\n",
    "        last_asked = name.rfind(' asked')\n",
    "        if last_asked and name[:last_asked] in mps.keys():\n",
    "            return mps[name[:last_asked]]\n",
    "\n",
    "        # slightly harder way (rearranging words)\n",
    "        for mp_name in mp_names:\n",
    "            if set(mp_name.split(' ')) == set(name.split(' ')):\n",
    "                if (honorific_name, mp_name) not in alr_matched:\n",
    "                    print(f'rearranging matched {honorific_name} to {mp_name}')\n",
    "                    alr_matched.add((honorific_name, mp_name))\n",
    "                return mps[mp_name]\n",
    "        \n",
    "    digit_match = re.search('\\d+', honorific_name)\n",
    "    if digit_match:\n",
    "        # names shldn't have digits\n",
    "        print(f'found this name, retrying: {honorific_name}')\n",
    "        honorific_name = honorific_name[digit_match.span()[1]:]\n",
    "        return honorific_name_to_mp_data(honorific_name)\n",
    "        \n",
    "    # the hard way (levenshtein)\n",
    "    min_levenshtein = 99999\n",
    "    min_ind = -1\n",
    "    for i in range(len(mp_names)):\n",
    "        l_dist = levenshtein(mp_names[i], honorific_name)\n",
    "        if l_dist < min_levenshtein:\n",
    "            min_levenshtein = l_dist\n",
    "            min_ind = i\n",
    "            \n",
    "    if (honorific_name, mp_names[min_ind]) not in alr_matched:\n",
    "        print(f'levenshtein matched {honorific_name} to {mp_names[min_ind]}')\n",
    "        alr_matched.add((honorific_name, mp_names[min_ind]))\n",
    "    return mps[mp_names[min_ind]]\n",
    "\n",
    "\n",
    "# borrowed from: https://blog.paperspace.com/implementing-levenshtein-distance-word-autocomplete-autocorrect/\n",
    "# we use levenshtein as it helps to protect against typos too, like the \"asked asked\" in:\n",
    "# https://sprs.parl.gov.sg/search/sprs3topic?reportid=oral-answer-2822\n",
    "def levenshtein(token1, token2):\n",
    "    distances = np.zeros((len(token1) + 1, len(token2) + 1))\n",
    "    for t1 in range(len(token1) + 1):\n",
    "        distances[t1][0] = t1\n",
    "    for t2 in range(len(token2) + 1):\n",
    "        distances[0][t2] = t2\n",
    "        \n",
    "    a = 0\n",
    "    b = 0\n",
    "    c = 0\n",
    "    \n",
    "    for t1 in range(1, len(token1) + 1):\n",
    "        for t2 in range(1, len(token2) + 1):\n",
    "            if (token1[t1-1] == token2[t2-1]):\n",
    "                distances[t1][t2] = distances[t1 - 1][t2 - 1]\n",
    "            else:\n",
    "                a = distances[t1][t2 - 1]\n",
    "                b = distances[t1 - 1][t2]\n",
    "                c = distances[t1 - 1][t2 - 1]\n",
    "                \n",
    "                if (a <= b and a <= c):\n",
    "                    distances[t1][t2] = a + 1\n",
    "                elif (b <= a and b <= c):\n",
    "                    distances[t1][t2] = b + 1\n",
    "                else:\n",
    "                    distances[t1][t2] = c + 1\n",
    "\n",
    "    return distances[len(token1)][len(token2)]"
   ]
  },
  {
   "cell_type": "markdown",
   "id": "4759f4b8-16fc-4450-a923-8bac17a53f4f",
   "metadata": {},
   "source": [
    "we assume that all pqs are prefaced with #. (non sprs) or # (sprs). ignore follow up qns since we are only interested in mapping mps to topics, and the follow up qns will always be from the same mp and on the same topic.\n",
    "\n",
    "notes regarding minister titles:\n",
    "* Minister for Culture, Community and Youth is the only minister title with a comma\n",
    "* no questions were ever directed to minister mentor"
   ]
  },
  {
   "cell_type": "code",
   "execution_count": 5,
   "id": "dd366a7a-0882-4584-a7ec-423a6a23fbd6",
   "metadata": {},
   "outputs": [],
   "source": [
    "cap_word = r'[A-Z][a-z]+'\n",
    "cap_words = f'({cap_word})( {cap_word})*'\n",
    "mccy = 'Minister for Culture, Community and Youth'\n",
    "minister_for_something = f'({cap_words} )?Minister (for|of) (the )?{cap_words}( and (the )?{cap_words})?'\n",
    "something_minister = f'{cap_words} Minister'\n",
    "minister_regex = re.compile(f'(({mccy})|({minister_for_something})|({something_minister}))')\n",
    "\n",
    "def first_two_capitalized(words):\n",
    "    return words[0][0].isupper() and words[1][0].isupper() and words[0][1] and words[0][1].islower()\n",
    "\n",
    "def trim_off_non_pq_content_at_start(para):\n",
    "    para_words = para.split(' ')\n",
    "    if first_two_capitalized(para_words):\n",
    "        return para\n",
    "    \n",
    "    # i assume honorific+name has at least two words capitalized and non-numbers\n",
    "    while not first_two_capitalized(para_words):\n",
    "        para_words = para_words[1:]\n",
    "    \n",
    "    return ' '.join(para_words)\n",
    "\n",
    "def pq_para_to_pq(pq_para):\n",
    "    para = pq_para[0]\n",
    "    para = re.sub(r'Page:\\s+\\d+', '', para)\n",
    "    para = trim_off_non_pq_content_at_start(para) # sometimes we end up mistaking other numbers in the text as being the pq numbers. so we deal w that here.\n",
    "    asker_honorific_name, para = para.split(' asked the ', 1)\n",
    "    minister_match = re.search(minister_regex, para)\n",
    "    if not minister_match:\n",
    "        # report might've been in the wrong case; try to match to existing ministers\n",
    "        minister_match = re.search(\n",
    "            '(' + '|'.join(list(map(lambda s: s.lower(), ministers_found))) + ')',\n",
    "            para.lower()\n",
    "        )\n",
    "        print(f'found minister: {str(minister_match)}')\n",
    "    askee = para[:minister_match.span()[1]].replace(' of ', ' for ')\n",
    "    ministers_found.add(askee)\n",
    "    question = para[minister_match.span()[1]:].strip()\n",
    "    if question[0] == ',':\n",
    "        question = question[1:].strip()\n",
    "    asker, asker_party, asker_parls = honorific_name_to_mp_data(asker_honorific_name.strip())\n",
    "    return [asker, asker_party, asker_parls, askee, question, *pq_para[1:]]\n"
   ]
  },
  {
   "cell_type": "code",
   "execution_count": 6,
   "id": "18897d42-8649-45a7-aa0d-507b21d2f91c",
   "metadata": {},
   "outputs": [],
   "source": [
    "pq_paras = pd.read_csv('pq_paras.csv').values.tolist()\n",
    "pqs = []"
   ]
  },
  {
   "cell_type": "code",
   "execution_count": null,
   "id": "b0314366-9a4d-4d9e-b74d-9fd5ebfd7830",
   "metadata": {
    "tags": []
   },
   "outputs": [
    {
     "name": "stdout",
     "output_type": "stream",
     "text": [
      "levenshtein matched mr murali pillai to murali pillai sc\n",
      "levenshtein matched mr alex yam to gonzales ra\n",
      "levenshtein matched mr mohd fahmi aliman to mohd fahmi bin aliman\n",
      "found minister: <re.Match object; span=(0, 22), match='minister for transport'>\n",
      "levenshtein matched mr yee chia hsing ? to yee chia hsing\n",
      "levenshtein matched mr david ong to r ravindran\n",
      "levenshtein matched mrs lina chiam to lina chiam\n",
      "levenshtein matched mr david ong kim huat to fong kim heng\n",
      "found this name, retrying: registration based on active community leadership 26 mr yee jenn jong\n",
      "found this name, retrying: 6 mr yee jenn jong\n",
      "levenshtein matched  mr yee jenn jong to yee jenn jong\n",
      "found this name, retrying: ride scheme 77 mr gan thiam poh\n",
      "found this name, retrying: 7 mr gan thiam poh\n",
      "levenshtein matched  mr gan thiam poh to gan thiam poh\n",
      "levenshtein matched assoc prof dr muhammad faishal ibrahim to muhammad faishal ibrahim\n",
      "found this name, retrying: london olympic games in singapore 14 er dr lee bee wah\n",
      "found this name, retrying: 4 er dr lee bee wah\n",
      "levenshtein matched  er dr lee bee wah to lee bee wah\n",
      "found this name, retrying: grand prix licence 12 mr liang eng hwa\n",
      "found this name, retrying: 2 mr liang eng hwa\n",
      "levenshtein matched  mr liang eng hwa to liang eng hwa\n",
      "--Return--\n",
      "None\n",
      "> \u001b[1;32mc:\\users\\thisi\\appdata\\local\\temp\\ipykernel_9668\\3500908452.py\u001b[0m(6)\u001b[0;36m<cell line: 1>\u001b[1;34m()\u001b[0m\n",
      "\n"
     ]
    }
   ],
   "source": [
    "try:\n",
    "    for pq_para in pq_paras:\n",
    "        pqs.append(pq_para_to_pq(pq_para))\n",
    "except Exception as e:\n",
    "    import pdb\n",
    "    pdb.set_trace()"
   ]
  },
  {
   "cell_type": "code",
   "execution_count": null,
   "id": "883514f5-2bfa-4845-b83e-3d4cfbb4c88e",
   "metadata": {},
   "outputs": [],
   "source": [
    "pq_df = pd.DataFrame(pqs, columns=['asker_name', 'asker_party', 'asker_parliaments', 'askee', 'question', 'sitting_date', 'parliament_no', 'report_section'])\n",
    "pq_df"
   ]
  },
  {
   "cell_type": "code",
   "execution_count": null,
   "id": "dfff1c41-1918-48ca-ac9d-f2df366f5fce",
   "metadata": {},
   "outputs": [],
   "source": [
    "pq_df.to_csv('pqs.csv', index=False)"
   ]
  }
 ],
 "metadata": {
  "kernelspec": {
   "display_name": "Python 3 (ipykernel)",
   "language": "python",
   "name": "python3"
  },
  "language_info": {
   "codemirror_mode": {
    "name": "ipython",
    "version": 3
   },
   "file_extension": ".py",
   "mimetype": "text/x-python",
   "name": "python",
   "nbconvert_exporter": "python",
   "pygments_lexer": "ipython3",
   "version": "3.10.4"
  }
 },
 "nbformat": 4,
 "nbformat_minor": 5
}
