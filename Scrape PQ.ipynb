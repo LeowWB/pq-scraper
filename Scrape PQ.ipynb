{
 "cells": [
  {
   "cell_type": "code",
   "execution_count": null,
   "metadata": {},
   "outputs": [],
   "source": [
    "from bs4 import BeautifulSoup as bs \n",
    "import math\n",
    "from selenium import webdriver\n",
    "from selenium.webdriver.common.by import By\n",
    "from selenium.webdriver.common.keys import Keys\n",
    "import time \n",
    "import os\n",
    " "
   ]
  },
  {
   "cell_type": "code",
   "execution_count": null,
   "metadata": {},
   "outputs": [],
   "source": [
    "DRIVER_PATH = 'C:/Users/thisi/Documents/GitHub/pq-scraper/chromedriver_win32/chromedriver.exe'"
   ]
  },
  {
   "cell_type": "code",
   "execution_count": 20,
   "metadata": {},
   "outputs": [
    {
     "name": "stderr",
     "output_type": "stream",
     "text": [
      "C:\\Users\\thisi\\AppData\\Local\\Temp\\ipykernel_18728\\2768564613.py:1: DeprecationWarning: executable_path has been deprecated, please pass in a Service object\n",
      "  driver = webdriver.Chrome(DRIVER_PATH)\n"
     ]
    },
    {
     "name": "stdout",
     "output_type": "stream",
     "text": [
      "Search parameters submitted.\n",
      "16 results found spanning 1 page(s)\n"
     ]
    }
   ],
   "source": [
    "driver = webdriver.Chrome(DRIVER_PATH) \n",
    " \n",
    "page_url = 'https://sprs.parl.gov.sg/search/home' \n",
    "driver.get(page_url) \n",
    "driver.maximize_window() \n",
    "driver.implicitly_wait(20) \n",
    "time.sleep(2) \n",
    " \n",
    "# Get search box and fill it up \n",
    "\n",
    "search = driver.find_element(by=By.XPATH, value='/html/body/app-root/app-search/div/div[2]/div[2]/div[1]/div/div[1]/input')\n",
    "search.send_keys('enter search term here') \n",
    " \n",
    "# Uncomment following two lines to only search in titles # \n",
    "#checkbox = driver.find_element_by_xpath('//*[@id=\"divmpscreen2\"]/div[2]/div[1]/div/label/input')\n",
    "#checkbox.click() \n",
    " \n",
    "# This will select the legislative assembly\n",
    "session = driver.find_element(by=By.XPATH, value='/html/body/app-root/app-search/div/div[2]/div[2]/div[1]/div/div[3]/select/option[1]')\n",
    "session.click() \n",
    " \n",
    "# Find submit element and press enter\n",
    "\n",
    "submit = driver.find_element(by=By.XPATH, value='/html/body/app-root/app-search/div/div[2]/div[2]/div[3]/div/button[2]') \n",
    "submit.send_keys(Keys.RETURN) \n",
    "\n",
    "print('Search parameters submitted.') \n",
    "\n",
    "# Switch window and check for number of search results \n",
    "\n",
    "driver.switch_to.window(driver.window_handles[1])\n",
    "driver.implicitly_wait(20) \n",
    "time.sleep(2) \n",
    "\n",
    "try:\n",
    "    num_res_label = driver.find_element(by=By.CLASS_NAME, value='showingResults')\n",
    "except: \n",
    "    print('Error when finding num_res_label')\n",
    "    \n",
    "num_res_text = num_res_label.get_attribute('innerHTML')\n",
    "    \n",
    "if 'No' in num_res_text:\n",
    "    print('no results found') # but site is quite erratic, may take a few tries to get results (idk why)\n",
    "else:\n",
    "    num_results = int(num_res_text[num_res_text.rfind(' ')+1:])\n",
    "    num_pages = math.ceil(num_results / 20)\n",
    "    print(f'{num_results} results found spanning {num_pages} page(s)')"
   ]
  },
  {
   "cell_type": "code",
   "execution_count": 28,
   "metadata": {},
   "outputs": [
    {
     "name": "stdout",
     "output_type": "stream",
     "text": [
      "16 links on this page\n",
      "Saved 1 / 16 docs\n",
      "Saved 2 / 16 docs\n",
      "Saved 3 / 16 docs\n",
      "Saved 4 / 16 docs\n"
     ]
    },
    {
     "ename": "IndexError",
     "evalue": "list index out of range",
     "output_type": "error",
     "traceback": [
      "\u001b[1;31m---------------------------------------------------------------------------\u001b[0m",
      "\u001b[1;31mIndexError\u001b[0m                                Traceback (most recent call last)",
      "Input \u001b[1;32mIn [28]\u001b[0m, in \u001b[0;36m<cell line: 28>\u001b[1;34m()\u001b[0m\n\u001b[0;32m     42\u001b[0m link\u001b[38;5;241m.\u001b[39mclick()\n\u001b[0;32m     44\u001b[0m \u001b[38;5;66;03m# Switch to page with content and get URL name\u001b[39;00m\n\u001b[1;32m---> 45\u001b[0m driver\u001b[38;5;241m.\u001b[39mswitch_to\u001b[38;5;241m.\u001b[39mwindow(\u001b[43mdriver\u001b[49m\u001b[38;5;241;43m.\u001b[39;49m\u001b[43mwindow_handles\u001b[49m\u001b[43m[\u001b[49m\u001b[38;5;241;43m2\u001b[39;49m\u001b[43m]\u001b[49m)         \n\u001b[0;32m     46\u001b[0m item_key \u001b[38;5;241m=\u001b[39m driver\u001b[38;5;241m.\u001b[39mcurrent_url\u001b[38;5;241m.\u001b[39msplit(\u001b[38;5;124m'\u001b[39m\u001b[38;5;124m/\u001b[39m\u001b[38;5;124m'\u001b[39m)[\u001b[38;5;241m-\u001b[39m\u001b[38;5;241m1\u001b[39m]         \n\u001b[0;32m     47\u001b[0m item_key \u001b[38;5;241m=\u001b[39m item_key\u001b[38;5;241m.\u001b[39mreplace(\u001b[38;5;124m'\u001b[39m\u001b[38;5;124m?\u001b[39m\u001b[38;5;124m'\u001b[39m, \u001b[38;5;124m'\u001b[39m\u001b[38;5;124m_\u001b[39m\u001b[38;5;124m'\u001b[39m) \u001b[38;5;66;03m# Replace ? because it would be an invalid filename \u001b[39;00m\n",
      "\u001b[1;31mIndexError\u001b[0m: list index out of range"
     ]
    }
   ],
   "source": [
    "docs_saved = 0\n",
    "pages_seen = 0\n",
    "\n",
    "if not os.path.exists('scraped_content'):\n",
    "    os.makedirs('scraped_content')\n",
    "    \n",
    "def element_completely_viewable(driver, elem):\n",
    "    elem_left_bound = elem.location.get('x')\n",
    "    elem_top_bound = elem.location.get('y')\n",
    "    elem_width = elem.size.get('width')\n",
    "    elem_height = elem.size.get('height')\n",
    "    elem_right_bound = elem_left_bound + elem_width\n",
    "    elem_lower_bound = elem_top_bound + elem_height\n",
    "\n",
    "    win_upper_bound = driver.execute_script('return window.pageYOffset')\n",
    "    win_left_bound = driver.execute_script('return window.pageXOffset')\n",
    "    win_width = driver.execute_script('return document.documentElement.clientWidth')\n",
    "    win_height = driver.execute_script('return document.documentElement.clientHeight')\n",
    "    win_right_bound = win_left_bound + win_width\n",
    "    win_lower_bound = win_upper_bound + win_height\n",
    "\n",
    "    return all((win_left_bound <= elem_left_bound,\n",
    "                win_right_bound >= elem_right_bound,\n",
    "                win_upper_bound <= elem_top_bound,\n",
    "                win_lower_bound >= elem_lower_bound)\n",
    "              )\n",
    "\n",
    "while (True):\n",
    "    driver.switch_to.window(driver.window_handles[1])                  \n",
    "\n",
    "    elems = driver.find_elements(by=By.XPATH, value='/html/body/app-root/app-result/div/div/div[2]/div/div/div/div/div/div[1]/table/tbody')\n",
    "    links = list(map(lambda elem: elem.find_elements(by=By.XPATH, value='.//tr[1]/td[2]/a')[0], elems))\n",
    "    \n",
    "    print(f'{len(links)} links on this page')\n",
    "    \n",
    "    for link in links:\n",
    "        y_height = 0\n",
    "        while not element_completely_viewable(driver, link):\n",
    "            driver.execute_script(f\"window.scrollTo(0, {y_height})\") \n",
    "            y_height += 100\n",
    "        \n",
    "        link.click()\n",
    "            \n",
    "        # Switch to page with content and get URL name\n",
    "        driver.switch_to.window(driver.window_handles[2])         \n",
    "        item_key = driver.current_url.split('/')[-1]         \n",
    "        item_key = item_key.replace('?', '_') # Replace ? because it would be an invalid filename \n",
    "\n",
    "        # Write out each page source as a file         \n",
    "        with open('scraped_content/' + item_key + '.txt', encoding = 'utf-8', mode = 'w+') as file:             \n",
    "            file.write(driver.page_source)    \n",
    "        docs_saved += 1\n",
    "        print(f'Saved {docs_saved} / {num_results} docs')\n",
    "\n",
    "        # Close tab         \n",
    "        driver.close()\n",
    "        driver.switch_to.window(driver.window_handles[1])\n",
    "    \n",
    "    if docs_saved == num_results:\n",
    "        break\n",
    "    elif docs_saved == 20:\n",
    "        next_page = driver.find_element_by_xpath('//*[@id=\"searchResults\"]/div[3]/section/ul/li[1]/a/i')\n",
    "    else:        \n",
    "        next_page = driver.find_element_by_xpath('//*[@id=\"searchResults\"]/div[3]/section/ul/li[3]/a/i')     \n",
    "    \n",
    "    next_page.click()\n",
    "    pages_seen += 1\n",
    "    print(f'Seen {pages_seen} / {num_pages} pages')\n",
    "\n",
    "    # Sleep momentarily because next page takes a while to load     \n",
    "    time.sleep(2) \n"
   ]
  },
  {
   "cell_type": "code",
   "execution_count": 27,
   "metadata": {},
   "outputs": [
    {
     "name": "stderr",
     "output_type": "stream",
     "text": [
      "C:\\Users\\thisi\\AppData\\Local\\Temp\\ipykernel_18576\\321653025.py:10: DeprecationWarning: find_element_by_xpath is deprecated. Please use find_element(by=By.XPATH, value=xpath) instead\n",
      "  elem = driver.find_element_by_xpath('//*[@id=\"searchResults\"]/table/tbody[{}]/tr[1]/td[2]/a'.format(item))\n",
      "C:\\Users\\thisi\\AppData\\Local\\Temp\\ipykernel_18576\\321653025.py:37: DeprecationWarning: find_element_by_xpath is deprecated. Please use find_element(by=By.XPATH, value=xpath) instead\n",
      "  next_page = driver.find_element_by_xpath('//*[@id=\"searchResults\"]/div[3]/section/ul/li[3]/a/i')\n",
      "C:\\Users\\thisi\\AppData\\Local\\Temp\\ipykernel_18576\\321653025.py:39: DeprecationWarning: find_element_by_xpath is deprecated. Please use find_element(by=By.XPATH, value=xpath) instead\n",
      "  next_page = driver.find_element_by_xpath('//*[@id=\"searchResults\"]/div[3]/section/ul/li[1]/a/i')\n"
     ]
    },
    {
     "ename": "NoSuchElementException",
     "evalue": "Message: no such element: Unable to locate element: {\"method\":\"xpath\",\"selector\":\"//*[@id=\"searchResults\"]/div[3]/section/ul/li[1]/a/i\"}\n  (Session info: chrome=101.0.4951.64)\nStacktrace:\nBacktrace:\n\tOrdinal0 [0x0076B8F3+2406643]\n\tOrdinal0 [0x006FAF31+1945393]\n\tOrdinal0 [0x005EC748+837448]\n\tOrdinal0 [0x006192E0+1020640]\n\tOrdinal0 [0x0061957B+1021307]\n\tOrdinal0 [0x00646372+1205106]\n\tOrdinal0 [0x006342C4+1131204]\n\tOrdinal0 [0x00644682+1197698]\n\tOrdinal0 [0x00634096+1130646]\n\tOrdinal0 [0x0060E636+976438]\n\tOrdinal0 [0x0060F546+980294]\n\tGetHandleVerifier [0x009D9612+2498066]\n\tGetHandleVerifier [0x009CC920+2445600]\n\tGetHandleVerifier [0x00804F2A+579370]\n\tGetHandleVerifier [0x00803D36+574774]\n\tOrdinal0 [0x00701C0B+1973259]\n\tOrdinal0 [0x00706688+1992328]\n\tOrdinal0 [0x00706775+1992565]\n\tOrdinal0 [0x0070F8D1+2029777]\n\tBaseThreadInitThunk [0x75D96739+25]\n\tRtlGetFullPathName_UEx [0x771B8E7F+1215]\n\tRtlGetFullPathName_UEx [0x771B8E4D+1165]\n",
     "output_type": "error",
     "traceback": [
      "\u001b[1;31m---------------------------------------------------------------------------\u001b[0m",
      "\u001b[1;31mNoSuchElementException\u001b[0m                    Traceback (most recent call last)",
      "Input \u001b[1;32mIn [27]\u001b[0m, in \u001b[0;36m<cell line: 2>\u001b[1;34m()\u001b[0m\n\u001b[0;32m     36\u001b[0m \u001b[38;5;28;01mtry\u001b[39;00m:         \n\u001b[1;32m---> 37\u001b[0m     next_page \u001b[38;5;241m=\u001b[39m \u001b[43mdriver\u001b[49m\u001b[38;5;241;43m.\u001b[39;49m\u001b[43mfind_element_by_xpath\u001b[49m\u001b[43m(\u001b[49m\u001b[38;5;124;43m'\u001b[39;49m\u001b[38;5;124;43m//*[@id=\u001b[39;49m\u001b[38;5;124;43m\"\u001b[39;49m\u001b[38;5;124;43msearchResults\u001b[39;49m\u001b[38;5;124;43m\"\u001b[39;49m\u001b[38;5;124;43m]/div[3]/section/ul/li[3]/a/i\u001b[39;49m\u001b[38;5;124;43m'\u001b[39;49m\u001b[43m)\u001b[49m     \n\u001b[0;32m     38\u001b[0m \u001b[38;5;28;01mexcept\u001b[39;00m:         \n",
      "File \u001b[1;32md:\\documents\\github\\pq-scraper\\env\\lib\\site-packages\\selenium\\webdriver\\remote\\webdriver.py:526\u001b[0m, in \u001b[0;36mWebDriver.find_element_by_xpath\u001b[1;34m(self, xpath)\u001b[0m\n\u001b[0;32m    521\u001b[0m warnings\u001b[38;5;241m.\u001b[39mwarn(\n\u001b[0;32m    522\u001b[0m     \u001b[38;5;124m\"\u001b[39m\u001b[38;5;124mfind_element_by_xpath is deprecated. Please use find_element(by=By.XPATH, value=xpath) instead\u001b[39m\u001b[38;5;124m\"\u001b[39m,\n\u001b[0;32m    523\u001b[0m     \u001b[38;5;167;01mDeprecationWarning\u001b[39;00m,\n\u001b[0;32m    524\u001b[0m     stacklevel\u001b[38;5;241m=\u001b[39m\u001b[38;5;241m2\u001b[39m,\n\u001b[0;32m    525\u001b[0m )\n\u001b[1;32m--> 526\u001b[0m \u001b[38;5;28;01mreturn\u001b[39;00m \u001b[38;5;28;43mself\u001b[39;49m\u001b[38;5;241;43m.\u001b[39;49m\u001b[43mfind_element\u001b[49m\u001b[43m(\u001b[49m\u001b[43mby\u001b[49m\u001b[38;5;241;43m=\u001b[39;49m\u001b[43mBy\u001b[49m\u001b[38;5;241;43m.\u001b[39;49m\u001b[43mXPATH\u001b[49m\u001b[43m,\u001b[49m\u001b[43m \u001b[49m\u001b[43mvalue\u001b[49m\u001b[38;5;241;43m=\u001b[39;49m\u001b[43mxpath\u001b[49m\u001b[43m)\u001b[49m\n",
      "File \u001b[1;32md:\\documents\\github\\pq-scraper\\env\\lib\\site-packages\\selenium\\webdriver\\remote\\webdriver.py:1251\u001b[0m, in \u001b[0;36mWebDriver.find_element\u001b[1;34m(self, by, value)\u001b[0m\n\u001b[0;32m   1249\u001b[0m     value \u001b[38;5;241m=\u001b[39m \u001b[38;5;124m'\u001b[39m\u001b[38;5;124m[name=\u001b[39m\u001b[38;5;124m\"\u001b[39m\u001b[38;5;132;01m%s\u001b[39;00m\u001b[38;5;124m\"\u001b[39m\u001b[38;5;124m]\u001b[39m\u001b[38;5;124m'\u001b[39m \u001b[38;5;241m%\u001b[39m value\n\u001b[1;32m-> 1251\u001b[0m \u001b[38;5;28;01mreturn\u001b[39;00m \u001b[38;5;28;43mself\u001b[39;49m\u001b[38;5;241;43m.\u001b[39;49m\u001b[43mexecute\u001b[49m\u001b[43m(\u001b[49m\u001b[43mCommand\u001b[49m\u001b[38;5;241;43m.\u001b[39;49m\u001b[43mFIND_ELEMENT\u001b[49m\u001b[43m,\u001b[49m\u001b[43m \u001b[49m\u001b[43m{\u001b[49m\n\u001b[0;32m   1252\u001b[0m \u001b[43m    \u001b[49m\u001b[38;5;124;43m'\u001b[39;49m\u001b[38;5;124;43musing\u001b[39;49m\u001b[38;5;124;43m'\u001b[39;49m\u001b[43m:\u001b[49m\u001b[43m \u001b[49m\u001b[43mby\u001b[49m\u001b[43m,\u001b[49m\n\u001b[0;32m   1253\u001b[0m \u001b[43m    \u001b[49m\u001b[38;5;124;43m'\u001b[39;49m\u001b[38;5;124;43mvalue\u001b[39;49m\u001b[38;5;124;43m'\u001b[39;49m\u001b[43m:\u001b[49m\u001b[43m \u001b[49m\u001b[43mvalue\u001b[49m\u001b[43m}\u001b[49m\u001b[43m)\u001b[49m[\u001b[38;5;124m'\u001b[39m\u001b[38;5;124mvalue\u001b[39m\u001b[38;5;124m'\u001b[39m]\n",
      "File \u001b[1;32md:\\documents\\github\\pq-scraper\\env\\lib\\site-packages\\selenium\\webdriver\\remote\\webdriver.py:430\u001b[0m, in \u001b[0;36mWebDriver.execute\u001b[1;34m(self, driver_command, params)\u001b[0m\n\u001b[0;32m    429\u001b[0m \u001b[38;5;28;01mif\u001b[39;00m response:\n\u001b[1;32m--> 430\u001b[0m     \u001b[38;5;28;43mself\u001b[39;49m\u001b[38;5;241;43m.\u001b[39;49m\u001b[43merror_handler\u001b[49m\u001b[38;5;241;43m.\u001b[39;49m\u001b[43mcheck_response\u001b[49m\u001b[43m(\u001b[49m\u001b[43mresponse\u001b[49m\u001b[43m)\u001b[49m\n\u001b[0;32m    431\u001b[0m     response[\u001b[38;5;124m'\u001b[39m\u001b[38;5;124mvalue\u001b[39m\u001b[38;5;124m'\u001b[39m] \u001b[38;5;241m=\u001b[39m \u001b[38;5;28mself\u001b[39m\u001b[38;5;241m.\u001b[39m_unwrap_value(\n\u001b[0;32m    432\u001b[0m         response\u001b[38;5;241m.\u001b[39mget(\u001b[38;5;124m'\u001b[39m\u001b[38;5;124mvalue\u001b[39m\u001b[38;5;124m'\u001b[39m, \u001b[38;5;28;01mNone\u001b[39;00m))\n",
      "File \u001b[1;32md:\\documents\\github\\pq-scraper\\env\\lib\\site-packages\\selenium\\webdriver\\remote\\errorhandler.py:247\u001b[0m, in \u001b[0;36mErrorHandler.check_response\u001b[1;34m(self, response)\u001b[0m\n\u001b[0;32m    246\u001b[0m     \u001b[38;5;28;01mraise\u001b[39;00m exception_class(message, screen, stacktrace, alert_text)  \u001b[38;5;66;03m# type: ignore[call-arg]  # mypy is not smart enough here\u001b[39;00m\n\u001b[1;32m--> 247\u001b[0m \u001b[38;5;28;01mraise\u001b[39;00m exception_class(message, screen, stacktrace)\n",
      "\u001b[1;31mNoSuchElementException\u001b[0m: Message: no such element: Unable to locate element: {\"method\":\"xpath\",\"selector\":\"//*[@id=\"searchResults\"]/div[3]/section/ul/li[3]/a/i\"}\n  (Session info: chrome=101.0.4951.64)\nStacktrace:\nBacktrace:\n\tOrdinal0 [0x0076B8F3+2406643]\n\tOrdinal0 [0x006FAF31+1945393]\n\tOrdinal0 [0x005EC748+837448]\n\tOrdinal0 [0x006192E0+1020640]\n\tOrdinal0 [0x0061957B+1021307]\n\tOrdinal0 [0x00646372+1205106]\n\tOrdinal0 [0x006342C4+1131204]\n\tOrdinal0 [0x00644682+1197698]\n\tOrdinal0 [0x00634096+1130646]\n\tOrdinal0 [0x0060E636+976438]\n\tOrdinal0 [0x0060F546+980294]\n\tGetHandleVerifier [0x009D9612+2498066]\n\tGetHandleVerifier [0x009CC920+2445600]\n\tGetHandleVerifier [0x00804F2A+579370]\n\tGetHandleVerifier [0x00803D36+574774]\n\tOrdinal0 [0x00701C0B+1973259]\n\tOrdinal0 [0x00706688+1992328]\n\tOrdinal0 [0x00706775+1992565]\n\tOrdinal0 [0x0070F8D1+2029777]\n\tBaseThreadInitThunk [0x75D96739+25]\n\tRtlGetFullPathName_UEx [0x771B8E7F+1215]\n\tRtlGetFullPathName_UEx [0x771B8E4D+1165]\n",
      "\nDuring handling of the above exception, another exception occurred:\n",
      "\u001b[1;31mNoSuchElementException\u001b[0m                    Traceback (most recent call last)",
      "Input \u001b[1;32mIn [27]\u001b[0m, in \u001b[0;36m<cell line: 2>\u001b[1;34m()\u001b[0m\n\u001b[0;32m     37\u001b[0m     next_page \u001b[38;5;241m=\u001b[39m driver\u001b[38;5;241m.\u001b[39mfind_element_by_xpath(\u001b[38;5;124m'\u001b[39m\u001b[38;5;124m//*[@id=\u001b[39m\u001b[38;5;124m\"\u001b[39m\u001b[38;5;124msearchResults\u001b[39m\u001b[38;5;124m\"\u001b[39m\u001b[38;5;124m]/div[3]/section/ul/li[3]/a/i\u001b[39m\u001b[38;5;124m'\u001b[39m)     \n\u001b[0;32m     38\u001b[0m \u001b[38;5;28;01mexcept\u001b[39;00m:         \n\u001b[1;32m---> 39\u001b[0m     next_page \u001b[38;5;241m=\u001b[39m \u001b[43mdriver\u001b[49m\u001b[38;5;241;43m.\u001b[39;49m\u001b[43mfind_element_by_xpath\u001b[49m\u001b[43m(\u001b[49m\u001b[38;5;124;43m'\u001b[39;49m\u001b[38;5;124;43m//*[@id=\u001b[39;49m\u001b[38;5;124;43m\"\u001b[39;49m\u001b[38;5;124;43msearchResults\u001b[39;49m\u001b[38;5;124;43m\"\u001b[39;49m\u001b[38;5;124;43m]/div[3]/section/ul/li[1]/a/i\u001b[39;49m\u001b[38;5;124;43m'\u001b[39;49m\u001b[43m)\u001b[49m     \n\u001b[0;32m     40\u001b[0m next_page\u001b[38;5;241m.\u001b[39mclick()          \n\u001b[0;32m     42\u001b[0m \u001b[38;5;66;03m# Sleep momentarily because next page takes a while to load     \u001b[39;00m\n",
      "File \u001b[1;32md:\\documents\\github\\pq-scraper\\env\\lib\\site-packages\\selenium\\webdriver\\remote\\webdriver.py:526\u001b[0m, in \u001b[0;36mWebDriver.find_element_by_xpath\u001b[1;34m(self, xpath)\u001b[0m\n\u001b[0;32m    504\u001b[0m \u001b[38;5;124;03m\"\"\"\u001b[39;00m\n\u001b[0;32m    505\u001b[0m \u001b[38;5;124;03mFinds an element by xpath.\u001b[39;00m\n\u001b[0;32m    506\u001b[0m \n\u001b[1;32m   (...)\u001b[0m\n\u001b[0;32m    519\u001b[0m \u001b[38;5;124;03m        element = driver.find_element_by_xpath('//div/td[1]')\u001b[39;00m\n\u001b[0;32m    520\u001b[0m \u001b[38;5;124;03m\"\"\"\u001b[39;00m\n\u001b[0;32m    521\u001b[0m warnings\u001b[38;5;241m.\u001b[39mwarn(\n\u001b[0;32m    522\u001b[0m     \u001b[38;5;124m\"\u001b[39m\u001b[38;5;124mfind_element_by_xpath is deprecated. Please use find_element(by=By.XPATH, value=xpath) instead\u001b[39m\u001b[38;5;124m\"\u001b[39m,\n\u001b[0;32m    523\u001b[0m     \u001b[38;5;167;01mDeprecationWarning\u001b[39;00m,\n\u001b[0;32m    524\u001b[0m     stacklevel\u001b[38;5;241m=\u001b[39m\u001b[38;5;241m2\u001b[39m,\n\u001b[0;32m    525\u001b[0m )\n\u001b[1;32m--> 526\u001b[0m \u001b[38;5;28;01mreturn\u001b[39;00m \u001b[38;5;28;43mself\u001b[39;49m\u001b[38;5;241;43m.\u001b[39;49m\u001b[43mfind_element\u001b[49m\u001b[43m(\u001b[49m\u001b[43mby\u001b[49m\u001b[38;5;241;43m=\u001b[39;49m\u001b[43mBy\u001b[49m\u001b[38;5;241;43m.\u001b[39;49m\u001b[43mXPATH\u001b[49m\u001b[43m,\u001b[49m\u001b[43m \u001b[49m\u001b[43mvalue\u001b[49m\u001b[38;5;241;43m=\u001b[39;49m\u001b[43mxpath\u001b[49m\u001b[43m)\u001b[49m\n",
      "File \u001b[1;32md:\\documents\\github\\pq-scraper\\env\\lib\\site-packages\\selenium\\webdriver\\remote\\webdriver.py:1251\u001b[0m, in \u001b[0;36mWebDriver.find_element\u001b[1;34m(self, by, value)\u001b[0m\n\u001b[0;32m   1248\u001b[0m     by \u001b[38;5;241m=\u001b[39m By\u001b[38;5;241m.\u001b[39mCSS_SELECTOR\n\u001b[0;32m   1249\u001b[0m     value \u001b[38;5;241m=\u001b[39m \u001b[38;5;124m'\u001b[39m\u001b[38;5;124m[name=\u001b[39m\u001b[38;5;124m\"\u001b[39m\u001b[38;5;132;01m%s\u001b[39;00m\u001b[38;5;124m\"\u001b[39m\u001b[38;5;124m]\u001b[39m\u001b[38;5;124m'\u001b[39m \u001b[38;5;241m%\u001b[39m value\n\u001b[1;32m-> 1251\u001b[0m \u001b[38;5;28;01mreturn\u001b[39;00m \u001b[38;5;28;43mself\u001b[39;49m\u001b[38;5;241;43m.\u001b[39;49m\u001b[43mexecute\u001b[49m\u001b[43m(\u001b[49m\u001b[43mCommand\u001b[49m\u001b[38;5;241;43m.\u001b[39;49m\u001b[43mFIND_ELEMENT\u001b[49m\u001b[43m,\u001b[49m\u001b[43m \u001b[49m\u001b[43m{\u001b[49m\n\u001b[0;32m   1252\u001b[0m \u001b[43m    \u001b[49m\u001b[38;5;124;43m'\u001b[39;49m\u001b[38;5;124;43musing\u001b[39;49m\u001b[38;5;124;43m'\u001b[39;49m\u001b[43m:\u001b[49m\u001b[43m \u001b[49m\u001b[43mby\u001b[49m\u001b[43m,\u001b[49m\n\u001b[0;32m   1253\u001b[0m \u001b[43m    \u001b[49m\u001b[38;5;124;43m'\u001b[39;49m\u001b[38;5;124;43mvalue\u001b[39;49m\u001b[38;5;124;43m'\u001b[39;49m\u001b[43m:\u001b[49m\u001b[43m \u001b[49m\u001b[43mvalue\u001b[49m\u001b[43m}\u001b[49m\u001b[43m)\u001b[49m[\u001b[38;5;124m'\u001b[39m\u001b[38;5;124mvalue\u001b[39m\u001b[38;5;124m'\u001b[39m]\n",
      "File \u001b[1;32md:\\documents\\github\\pq-scraper\\env\\lib\\site-packages\\selenium\\webdriver\\remote\\webdriver.py:430\u001b[0m, in \u001b[0;36mWebDriver.execute\u001b[1;34m(self, driver_command, params)\u001b[0m\n\u001b[0;32m    428\u001b[0m response \u001b[38;5;241m=\u001b[39m \u001b[38;5;28mself\u001b[39m\u001b[38;5;241m.\u001b[39mcommand_executor\u001b[38;5;241m.\u001b[39mexecute(driver_command, params)\n\u001b[0;32m    429\u001b[0m \u001b[38;5;28;01mif\u001b[39;00m response:\n\u001b[1;32m--> 430\u001b[0m     \u001b[38;5;28;43mself\u001b[39;49m\u001b[38;5;241;43m.\u001b[39;49m\u001b[43merror_handler\u001b[49m\u001b[38;5;241;43m.\u001b[39;49m\u001b[43mcheck_response\u001b[49m\u001b[43m(\u001b[49m\u001b[43mresponse\u001b[49m\u001b[43m)\u001b[49m\n\u001b[0;32m    431\u001b[0m     response[\u001b[38;5;124m'\u001b[39m\u001b[38;5;124mvalue\u001b[39m\u001b[38;5;124m'\u001b[39m] \u001b[38;5;241m=\u001b[39m \u001b[38;5;28mself\u001b[39m\u001b[38;5;241m.\u001b[39m_unwrap_value(\n\u001b[0;32m    432\u001b[0m         response\u001b[38;5;241m.\u001b[39mget(\u001b[38;5;124m'\u001b[39m\u001b[38;5;124mvalue\u001b[39m\u001b[38;5;124m'\u001b[39m, \u001b[38;5;28;01mNone\u001b[39;00m))\n\u001b[0;32m    433\u001b[0m     \u001b[38;5;28;01mreturn\u001b[39;00m response\n",
      "File \u001b[1;32md:\\documents\\github\\pq-scraper\\env\\lib\\site-packages\\selenium\\webdriver\\remote\\errorhandler.py:247\u001b[0m, in \u001b[0;36mErrorHandler.check_response\u001b[1;34m(self, response)\u001b[0m\n\u001b[0;32m    245\u001b[0m         alert_text \u001b[38;5;241m=\u001b[39m value[\u001b[38;5;124m'\u001b[39m\u001b[38;5;124malert\u001b[39m\u001b[38;5;124m'\u001b[39m]\u001b[38;5;241m.\u001b[39mget(\u001b[38;5;124m'\u001b[39m\u001b[38;5;124mtext\u001b[39m\u001b[38;5;124m'\u001b[39m)\n\u001b[0;32m    246\u001b[0m     \u001b[38;5;28;01mraise\u001b[39;00m exception_class(message, screen, stacktrace, alert_text)  \u001b[38;5;66;03m# type: ignore[call-arg]  # mypy is not smart enough here\u001b[39;00m\n\u001b[1;32m--> 247\u001b[0m \u001b[38;5;28;01mraise\u001b[39;00m exception_class(message, screen, stacktrace)\n",
      "\u001b[1;31mNoSuchElementException\u001b[0m: Message: no such element: Unable to locate element: {\"method\":\"xpath\",\"selector\":\"//*[@id=\"searchResults\"]/div[3]/section/ul/li[1]/a/i\"}\n  (Session info: chrome=101.0.4951.64)\nStacktrace:\nBacktrace:\n\tOrdinal0 [0x0076B8F3+2406643]\n\tOrdinal0 [0x006FAF31+1945393]\n\tOrdinal0 [0x005EC748+837448]\n\tOrdinal0 [0x006192E0+1020640]\n\tOrdinal0 [0x0061957B+1021307]\n\tOrdinal0 [0x00646372+1205106]\n\tOrdinal0 [0x006342C4+1131204]\n\tOrdinal0 [0x00644682+1197698]\n\tOrdinal0 [0x00634096+1130646]\n\tOrdinal0 [0x0060E636+976438]\n\tOrdinal0 [0x0060F546+980294]\n\tGetHandleVerifier [0x009D9612+2498066]\n\tGetHandleVerifier [0x009CC920+2445600]\n\tGetHandleVerifier [0x00804F2A+579370]\n\tGetHandleVerifier [0x00803D36+574774]\n\tOrdinal0 [0x00701C0B+1973259]\n\tOrdinal0 [0x00706688+1992328]\n\tOrdinal0 [0x00706775+1992565]\n\tOrdinal0 [0x0070F8D1+2029777]\n\tBaseThreadInitThunk [0x75D96739+25]\n\tRtlGetFullPathName_UEx [0x771B8E7F+1215]\n\tRtlGetFullPathName_UEx [0x771B8E4D+1165]\n"
     ]
    }
   ],
   "source": [
    "# old codee here.\n",
    "# Nested for loop to click through all search results \n",
    "for page in range(num_pages):         \n",
    "    # This assumes that 20 search results are returned, which are 1-indexed in the xpaths     \n",
    "    for item in range (1, 21):\n",
    "        # Switch to search results page         \n",
    "        driver.switch_to.window(driver.window_handles[1])                  \n",
    "        # Get element to click on, to see each individual page with content         \n",
    "        # Last page will have fewer than 20 elements, so need to handle this exception         \n",
    "        try:             \n",
    "            elem = driver.find_element_by_xpath('//*[@id=\"searchResults\"]/table/tbody[{}]/tr[1]/td[2]/a'.format(item))\n",
    "            elem.click()     \n",
    "            \n",
    "            # Switch to page with content and get URL name         \n",
    "            driver.switch_to.window(driver.window_handles[2])         \n",
    "            item_key = driver.current_url.split('/')[-1]         \n",
    "            item_key = item_key.replace('?', '_') # Replace ? because it would be an invalid filename \n",
    "\n",
    "            # Append result to dictionary for later processing         \n",
    "            res_dict[item_key] = driver.page_source  \n",
    "\n",
    "            # Write out each page source as a file         \n",
    "            with open('scraped_content/' + item_key + '.txt', encoding = 'utf-8', mode = 'w+') as file:             \n",
    "                file.write(driver.page_source)                  \n",
    "\n",
    "            # Close tab         \n",
    "            driver.close()              \n",
    "        \n",
    "        except:             \n",
    "            break   \n",
    "                \n",
    "        # Switch back to search results tab     \n",
    "        driver.switch_to.window(driver.window_handles[1])          \n",
    "        \n",
    "        # Click on next page once 20 results have been saved     \n",
    "        # Next page button changes after first 20 results are shown, hence the need for enclosing the element xpath in a try block     \n",
    "        try:         \n",
    "            next_page = driver.find_element_by_xpath('//*[@id=\"searchResults\"]/div[3]/section/ul/li[3]/a/i')     \n",
    "        except:         \n",
    "            next_page = driver.find_element_by_xpath('//*[@id=\"searchResults\"]/div[3]/section/ul/li[1]/a/i')     \n",
    "        next_page.click()          \n",
    "        \n",
    "        # Sleep momentarily because next page takes a while to load     \n",
    "        time.sleep(2) \n",
    "\n",
    "# Check that all results are stored \n",
    "assert len(res_dict.keys()) == int(res[-1]), \"It looks like not all the results were stored!\" "
   ]
  },
  {
   "cell_type": "code",
   "execution_count": null,
   "metadata": {},
   "outputs": [],
   "source": []
  },
  {
   "cell_type": "code",
   "execution_count": null,
   "metadata": {},
   "outputs": [],
   "source": []
  }
 ],
 "metadata": {
  "kernelspec": {
   "display_name": "Python 3 (ipykernel)",
   "language": "python",
   "name": "python3"
  },
  "language_info": {
   "codemirror_mode": {
    "name": "ipython",
    "version": 3
   },
   "file_extension": ".py",
   "mimetype": "text/x-python",
   "name": "python",
   "nbconvert_exporter": "python",
   "pygments_lexer": "ipython3",
   "version": "3.10.4"
  }
 },
 "nbformat": 4,
 "nbformat_minor": 4
}
