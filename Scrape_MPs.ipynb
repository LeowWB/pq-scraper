{
 "cells": [
  {
   "cell_type": "code",
   "execution_count": null,
   "metadata": {},
   "outputs": [],
   "source": [
    "import requests\n",
    "from bs4 import BeautifulSoup as bs\n",
    "import re\n",
    "import numpy as np\n",
    "import pandas as pd\n",
    "from tqdm import tqdm\n"
   ]
  },
  {
   "cell_type": "code",
   "execution_count": null,
   "metadata": {},
   "outputs": [],
   "source": [
    "list_url = 'https://www.parliament.gov.sg/mps/list-of-current-mps'\n",
    "r_list = requests.get(list_url)\n",
    "doc = bs(r_list.text)"
   ]
  },
  {
   "cell_type": "code",
   "execution_count": null,
   "metadata": {},
   "outputs": [],
   "source": [
    "listmps_raw = doc.find_all('div',{'class':'col-md-8 col-xs-12 mp-sort-name'})\n",
    "mp_list = [ref.find('a')['href'] for ref in listmps_raw]"
   ]
  },
  {
   "cell_type": "code",
   "execution_count": null,
   "metadata": {},
   "outputs": [],
   "source": [
    "def get_MPdetails(slug):\n",
    "    profile={}\n",
    "    BASE_URL = \"https://www.parliament.gov.sg\"\n",
    "    r = requests.get(BASE_URL + slug)\n",
    "    soup = bs(r.text, 'lxml')\n",
    "    try:\n",
    "        profile['name']=soup.find('h1',{'class':'indv-mp-header-mobile'}).text\n",
    "        profile['designation'] = soup.find('div',{'class':'row mp-designation-wrap'}).find('div',{'class':\"col-md-9 col-xs-12\"}).text.split('\\t')[0].replace('\\r\\n','')\n",
    "        if profile['designation'] == 'Nominated Member of Parliament':\n",
    "            profile['constituency'] = 'NA'\n",
    "            profile['party'] ='NA'\n",
    "        elif profile['designation'] == 'Non-Constituency Member of Parliament':\n",
    "            profile['constituency'] = 'NA'\n",
    "            profile['party'] = soup.find('div',{'class':'row mp-party-wrap'}).find('div',{'class':\"col-md-9 col-xs-12\"}).text.strip()\n",
    "        else: \n",
    "            profile['constituency'] = soup.find('div', {'class':'row mp-constituency-wrap'}).find('div',{'class':\"col-md-9 col-xs-12\"}).get_text().split('\\n')[1].strip()\n",
    "            profile['party'] = soup.find('div',{'class':'row mp-party-wrap'}).find('div',{'class':\"col-md-9 col-xs-12\"}).text.strip()\n",
    "            \n",
    "    except:\n",
    "        print(\"URL broke at {BASE_URL + uri}\")\n",
    "        \n",
    "    return profile\n",
    "\n",
    "    "
   ]
  },
  {
   "cell_type": "code",
   "execution_count": null,
   "metadata": {},
   "outputs": [],
   "source": [
    "result_list = []\n",
    "for slug in mp_list: \n",
    "    result_list.append(get_MPdetails(slug))\n",
    "    "
   ]
  },
  {
   "cell_type": "code",
   "execution_count": null,
   "metadata": {},
   "outputs": [],
   "source": [
    "MPs = pd.DataFrame(result_list, columns = ['name','designation','constituency','party'])"
   ]
  },
  {
   "cell_type": "code",
   "execution_count": null,
   "metadata": {},
   "outputs": [],
   "source": [
    "MPs.to_csv('MPs.csv', index= False)"
   ]
  },
  {
   "cell_type": "code",
   "execution_count": null,
   "metadata": {},
   "outputs": [],
   "source": []
  }
 ],
 "metadata": {
  "kernelspec": {
   "display_name": "Python 3 (ipykernel)",
   "language": "python",
   "name": "python3"
  },
  "language_info": {
   "codemirror_mode": {
    "name": "ipython",
    "version": 3
   },
   "file_extension": ".py",
   "mimetype": "text/x-python",
   "name": "python",
   "nbconvert_exporter": "python",
   "pygments_lexer": "ipython3",
   "version": "3.8.8"
  }
 },
 "nbformat": 4,
 "nbformat_minor": 4
}
