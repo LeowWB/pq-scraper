{
 "cells": [
  {
   "cell_type": "markdown",
   "metadata": {},
   "source": [
    "sometimes code is too fast for browser driver. in such cases, try increasing sleep time."
   ]
  },
  {
   "cell_type": "code",
   "execution_count": 1,
   "metadata": {},
   "outputs": [],
   "source": [
    "from bs4 import BeautifulSoup as bs \n",
    "import math\n",
    "from selenium import webdriver\n",
    "from selenium.webdriver.common.by import By\n",
    "from selenium.webdriver.common.keys import Keys\n",
    "import time \n",
    "import os\n",
    "import pandas as pd"
   ]
  },
  {
   "cell_type": "markdown",
   "metadata": {},
   "source": [
    "pls remember to change this path."
   ]
  },
  {
   "cell_type": "code",
   "execution_count": 2,
   "metadata": {},
   "outputs": [],
   "source": [
    "DRIVER_PATH = 'chromedriver_win32/chromedriver.exe'"
   ]
  },
  {
   "cell_type": "code",
   "execution_count": 3,
   "metadata": {},
   "outputs": [
    {
     "name": "stderr",
     "output_type": "stream",
     "text": [
      "C:\\Users\\thisi\\AppData\\Local\\Temp\\ipykernel_25356\\135018422.py:32: DeprecationWarning: executable_path has been deprecated, please pass in a Service object\n",
      "  driver = webdriver.Chrome(DRIVER_PATH)\n"
     ]
    },
    {
     "name": "stdout",
     "output_type": "stream",
     "text": [
      "Total of 14 parliaments\n"
     ]
    }
   ],
   "source": [
    "def element_completely_viewable(driver, elem):\n",
    "    elem_left_bound = elem.location.get('x')\n",
    "    elem_top_bound = elem.location.get('y')\n",
    "    elem_width = elem.size.get('width')\n",
    "    elem_height = elem.size.get('height')\n",
    "    elem_right_bound = elem_left_bound + elem_width\n",
    "    elem_lower_bound = elem_top_bound + elem_height\n",
    "\n",
    "    win_upper_bound = driver.execute_script('return window.pageYOffset')\n",
    "    win_left_bound = driver.execute_script('return window.pageXOffset')\n",
    "    win_width = driver.execute_script('return document.documentElement.clientWidth')\n",
    "    win_height = driver.execute_script('return document.documentElement.clientHeight')\n",
    "    win_right_bound = win_left_bound + win_width\n",
    "    win_lower_bound = win_upper_bound + win_height\n",
    "\n",
    "    return all((win_left_bound <= elem_left_bound,\n",
    "                win_right_bound >= elem_right_bound,\n",
    "                win_upper_bound <= elem_top_bound,\n",
    "                win_lower_bound >= elem_lower_bound)\n",
    "              )\n",
    "\n",
    "# scrolls down the page from top to bottom until the element is visible, then clicks on it.\n",
    "# (selenium doesn't let you click on stuff that's not on the screen)\n",
    "def find_and_click(driver, elem):\n",
    "    y_height = 0\n",
    "    while not element_completely_viewable(driver, elem):\n",
    "        driver.execute_script(f\"window.scrollTo(0, {y_height})\") \n",
    "        y_height += 100\n",
    "        time.sleep(0.5)\n",
    "    elem.click()\n",
    "\n",
    "driver = webdriver.Chrome(DRIVER_PATH) \n",
    " \n",
    "page_url = 'https://www.parliament.gov.sg/history/list-of-mps-by-parliament' \n",
    "driver.get(page_url) \n",
    "driver.maximize_window() \n",
    "driver.implicitly_wait(20) \n",
    "time.sleep(2) \n",
    "\n",
    "parliament_combobox = driver.find_element(\n",
    "    by=By.ID,\n",
    "    value='Parliament'\n",
    ")\n",
    "\n",
    "num_parliaments = int(parliament_combobox.get_attribute('childElementCount'))\n",
    "print(f'Total of {num_parliaments} parliaments')\n"
   ]
  },
  {
   "cell_type": "code",
   "execution_count": 4,
   "metadata": {},
   "outputs": [
    {
     "name": "stdout",
     "output_type": "stream",
     "text": [
      "Looking at parliament 12\n",
      "Found 110 MPs\n",
      "found a resigned guy: Halimah Yacob\n",
      "found a resigned guy: David Ong Kim Huat\n",
      "found a resigned guy: Michael Palmer\n",
      "found a resigned guy: Yaw Shin Leong\n",
      "Looking at parliament 13\n",
      "Found 111 MPs\n",
      "found a resigned guy: Halimah Yacob\n",
      "found a resigned guy: David Ong Kim Huat\n",
      "Looking at parliament 14\n",
      "Found 102 MPs\n",
      "found a resigned guy: Raeesah Khan\n"
     ]
    }
   ],
   "source": [
    "mps = []\n",
    "\n",
    "for parliament_index in range(num_parliaments - 2, num_parliaments + 1): # parls in [12,14]\n",
    "    # need this line of code below to prevent stale element reference. not sure why but just keep it. \n",
    "    parliament_combobox = driver.find_element(\n",
    "        by=By.ID,\n",
    "        value='Parliament'\n",
    "    )\n",
    "\n",
    "    current_parliament_option = driver.find_element(\n",
    "        by=By.XPATH,\n",
    "        value=f'//*[@id=\"Parliament\"]/option[{parliament_index}]'\n",
    "    )\n",
    "    \n",
    "    find_and_click(driver, parliament_combobox)\n",
    "    time.sleep(0.5)\n",
    "    find_and_click(driver, current_parliament_option)\n",
    "    time.sleep(2)\n",
    "    \n",
    "    print(f'Looking at parliament {parliament_index}')\n",
    "    \n",
    "    full_table = driver.find_element(\n",
    "        by=By.XPATH,\n",
    "        value='/html/body/form/div[3]/div[2]/div[2]/div[1]/div[3]/ul'\n",
    "    )\n",
    "    \n",
    "    num_rows = int(full_table.get_attribute('childElementCount'))\n",
    "    print(f'Found {num_rows} MPs')\n",
    "    \n",
    "    mps_this_parliament = []\n",
    "    \n",
    "    for i in range(1, num_rows+1):\n",
    "        name_div = driver.find_element(\n",
    "            by=By.XPATH,\n",
    "            value=f'/html/body/form/div[3]/div[2]/div[2]/div[1]/div[3]/ul/li[{i}]/div/div[1]/div[2]'\n",
    "        )\n",
    "        \n",
    "        party_div = driver.find_element(\n",
    "            by=By.XPATH,\n",
    "            value=f'/html/body/form/div[3]/div[2]/div[2]/div[1]/div[3]/ul/li[{i}]/div/div[2]'\n",
    "        )\n",
    "        \n",
    "        legis_assembly_div = driver.find_element(\n",
    "            by=By.XPATH,\n",
    "            value=f'/html/body/form/div[3]/div[2]/div[2]/div[1]/div[3]/ul/li[{i}]/div/div[3]'\n",
    "        )\n",
    "        \n",
    "        also_in_div = driver.find_element(\n",
    "            by=By.XPATH,\n",
    "            value=f'/html/body/form/div[3]/div[2]/div[2]/div[1]/div[3]/ul/li[{i}]/div/div[4]'\n",
    "        )\n",
    "        \n",
    "        name, party, legis_assembly, also_in = list(map(\n",
    "            lambda div: div.get_attribute('innerHTML').strip(),\n",
    "            [name_div, party_div, legis_assembly_div, also_in_div]\n",
    "        ))\n",
    "        \n",
    "        other_parl_nums = []\n",
    "        \n",
    "        # use 0 to denote legislative assembly\n",
    "        if legis_assembly:\n",
    "            other_parl_nums.append(0)\n",
    "        \n",
    "        for other_parl in also_in.split(', '):\n",
    "            other_parl_num = int(other_parl[:-2])\n",
    "            other_parl_nums.append(other_parl_num)\n",
    "        \n",
    "        if 'Resigned' in name:\n",
    "            resigned_index = name.find('Resigned')\n",
    "            name = name[:resigned_index]\n",
    "            while not name[-1].isalpha():\n",
    "                name = name[:-1]\n",
    "            print(f'found a resigned guy: {name}')\n",
    "            \n",
    "        if 'Assoc Prof' in name:\n",
    "            assoc_index = name.find('Assoc Prof')\n",
    "            name = name[:assoc_index]\n",
    "            while not name[-1].isalpha():\n",
    "                name = name[:-1]\n",
    "            print(f'found a assoc prof guy: {name}')\n",
    "            \n",
    "        if 'Prof' in name:\n",
    "            prof_index = name.find('Prof')\n",
    "            name = name[:prof_index]\n",
    "            while not name[-1].isalpha():\n",
    "                name = name[:-1]\n",
    "            print(f'found a prof guy: {name}')\n",
    "        \n",
    "        mps_this_parliament.append((name, party, tuple(other_parl_nums)))\n",
    "    \n",
    "    mps += mps_this_parliament"
   ]
  },
  {
   "cell_type": "code",
   "execution_count": 5,
   "metadata": {
    "tags": []
   },
   "outputs": [
    {
     "name": "stdout",
     "output_type": "stream",
     "text": [
      "323 entries\n",
      "186 unique entries\n"
     ]
    }
   ],
   "source": [
    "print(f'{len(mps)} entries')\n",
    "print(f'{len(set(mps))} unique entries')"
   ]
  },
  {
   "cell_type": "code",
   "execution_count": 6,
   "metadata": {},
   "outputs": [],
   "source": [
    "dataframe = pd.DataFrame(sorted(set(mps)), columns=['Name','Party','Parliaments'])"
   ]
  },
  {
   "cell_type": "markdown",
   "metadata": {},
   "source": [
    "## Cleaning\n",
    "\n",
    "PAP has two different representations (different apostrophe).\n",
    "\n",
    "Number of rows with the slanted apostrophe (’) is 83.\n",
    "\n",
    "Treatment: Changed to the normal apostrophe (')."
   ]
  },
  {
   "cell_type": "code",
   "execution_count": 7,
   "metadata": {},
   "outputs": [
    {
     "data": {
      "text/plain": [
       "array(['', 'People’s Action Party', \"People's Action Party\",\n",
       "       'Nominated Member of Parliament', \"Workers' Party\",\n",
       "       'Progress Singapore Party', \"Singapore People's Party\"],\n",
       "      dtype=object)"
      ]
     },
     "execution_count": 7,
     "metadata": {},
     "output_type": "execute_result"
    }
   ],
   "source": [
    "dataframe['Party'].unique()"
   ]
  },
  {
   "cell_type": "code",
   "execution_count": 8,
   "metadata": {},
   "outputs": [
    {
     "name": "stdout",
     "output_type": "stream",
     "text": [
      "65\n"
     ]
    },
    {
     "data": {
      "text/plain": [
       "array(['', \"People's Action Party\", 'Nominated Member of Parliament',\n",
       "       \"Workers' Party\", 'Progress Singapore Party',\n",
       "       \"Singapore People's Party\"], dtype=object)"
      ]
     },
     "execution_count": 8,
     "metadata": {},
     "output_type": "execute_result"
    }
   ],
   "source": [
    "print(len(dataframe.loc[dataframe['Party'] == 'People’s Action Party']))\n",
    "dataframe.loc[dataframe['Party'] == 'People’s Action Party', 'Party'] = \"People's Action Party\"\n",
    "dataframe['Party'].unique()"
   ]
  },
  {
   "cell_type": "markdown",
   "metadata": {},
   "source": [
    "1 row has 2 parties under the \"Party\" field. \n",
    "\n",
    "Treatment: represent as list"
   ]
  },
  {
   "cell_type": "code",
   "execution_count": 9,
   "metadata": {},
   "outputs": [
    {
     "data": {
      "text/html": [
       "<div>\n",
       "<style scoped>\n",
       "    .dataframe tbody tr th:only-of-type {\n",
       "        vertical-align: middle;\n",
       "    }\n",
       "\n",
       "    .dataframe tbody tr th {\n",
       "        vertical-align: top;\n",
       "    }\n",
       "\n",
       "    .dataframe thead th {\n",
       "        text-align: right;\n",
       "    }\n",
       "</style>\n",
       "<table border=\"1\" class=\"dataframe\">\n",
       "  <thead>\n",
       "    <tr style=\"text-align: right;\">\n",
       "      <th></th>\n",
       "      <th>Name</th>\n",
       "      <th>Party</th>\n",
       "      <th>Parliaments</th>\n",
       "    </tr>\n",
       "  </thead>\n",
       "  <tbody>\n",
       "  </tbody>\n",
       "</table>\n",
       "</div>"
      ],
      "text/plain": [
       "Empty DataFrame\n",
       "Columns: [Name, Party, Parliaments]\n",
       "Index: []"
      ]
     },
     "execution_count": 9,
     "metadata": {},
     "output_type": "execute_result"
    }
   ],
   "source": [
    "dataframe.loc[dataframe['Party'] == \"People's Action Party, Barisan Sosialis\"]"
   ]
  },
  {
   "cell_type": "code",
   "execution_count": 10,
   "metadata": {},
   "outputs": [
    {
     "data": {
      "text/html": [
       "<div>\n",
       "<style scoped>\n",
       "    .dataframe tbody tr th:only-of-type {\n",
       "        vertical-align: middle;\n",
       "    }\n",
       "\n",
       "    .dataframe tbody tr th {\n",
       "        vertical-align: top;\n",
       "    }\n",
       "\n",
       "    .dataframe thead th {\n",
       "        text-align: right;\n",
       "    }\n",
       "</style>\n",
       "<table border=\"1\" class=\"dataframe\">\n",
       "  <thead>\n",
       "    <tr style=\"text-align: right;\">\n",
       "      <th></th>\n",
       "      <th>Name</th>\n",
       "      <th>Party</th>\n",
       "      <th>Parliaments</th>\n",
       "    </tr>\n",
       "  </thead>\n",
       "  <tbody>\n",
       "  </tbody>\n",
       "</table>\n",
       "</div>"
      ],
      "text/plain": [
       "Empty DataFrame\n",
       "Columns: [Name, Party, Parliaments]\n",
       "Index: []"
      ]
     },
     "execution_count": 10,
     "metadata": {},
     "output_type": "execute_result"
    }
   ],
   "source": [
    "dataframe = dataframe.assign(Party=dataframe.Party.str.split(', '))\n",
    "dataframe.loc[dataframe['Name'] == 'Chan Sun Wing']"
   ]
  },
  {
   "cell_type": "code",
   "execution_count": 11,
   "metadata": {},
   "outputs": [
    {
     "data": {
      "text/html": [
       "<div>\n",
       "<style scoped>\n",
       "    .dataframe tbody tr th:only-of-type {\n",
       "        vertical-align: middle;\n",
       "    }\n",
       "\n",
       "    .dataframe tbody tr th {\n",
       "        vertical-align: top;\n",
       "    }\n",
       "\n",
       "    .dataframe thead th {\n",
       "        text-align: right;\n",
       "    }\n",
       "</style>\n",
       "<table border=\"1\" class=\"dataframe\">\n",
       "  <thead>\n",
       "    <tr style=\"text-align: right;\">\n",
       "      <th></th>\n",
       "      <th>Name</th>\n",
       "      <th>Party</th>\n",
       "      <th>Parliaments</th>\n",
       "    </tr>\n",
       "  </thead>\n",
       "  <tbody>\n",
       "    <tr>\n",
       "      <th>0</th>\n",
       "      <td>Abdul Samad</td>\n",
       "      <td>[]</td>\n",
       "      <td>(14,)</td>\n",
       "    </tr>\n",
       "    <tr>\n",
       "      <th>1</th>\n",
       "      <td>Alex Yam Ziming</td>\n",
       "      <td>[People's Action Party]</td>\n",
       "      <td>(12, 13, 14)</td>\n",
       "    </tr>\n",
       "    <tr>\n",
       "      <th>2</th>\n",
       "      <td>Alvin Tan</td>\n",
       "      <td>[People's Action Party]</td>\n",
       "      <td>(14,)</td>\n",
       "    </tr>\n",
       "    <tr>\n",
       "      <th>3</th>\n",
       "      <td>Alvin Yeo</td>\n",
       "      <td>[People's Action Party]</td>\n",
       "      <td>(11, 12)</td>\n",
       "    </tr>\n",
       "    <tr>\n",
       "      <th>4</th>\n",
       "      <td>Amrin Amin</td>\n",
       "      <td>[People's Action Party]</td>\n",
       "      <td>(13,)</td>\n",
       "    </tr>\n",
       "    <tr>\n",
       "      <th>...</th>\n",
       "      <td>...</td>\n",
       "      <td>...</td>\n",
       "      <td>...</td>\n",
       "    </tr>\n",
       "    <tr>\n",
       "      <th>181</th>\n",
       "      <td>Yip Pin Xiu</td>\n",
       "      <td>[Nominated Member of Parliament]</td>\n",
       "      <td>(13,)</td>\n",
       "    </tr>\n",
       "    <tr>\n",
       "      <th>182</th>\n",
       "      <td>Zainal Sapari</td>\n",
       "      <td>[People's Action Party]</td>\n",
       "      <td>(12, 13)</td>\n",
       "    </tr>\n",
       "    <tr>\n",
       "      <th>183</th>\n",
       "      <td>Zainudin Nordin</td>\n",
       "      <td>[People's Action Party]</td>\n",
       "      <td>(10, 11, 12)</td>\n",
       "    </tr>\n",
       "    <tr>\n",
       "      <th>184</th>\n",
       "      <td>Zaqy Mohamad</td>\n",
       "      <td>[People's Action Party]</td>\n",
       "      <td>(11, 12, 13, 14)</td>\n",
       "    </tr>\n",
       "    <tr>\n",
       "      <th>185</th>\n",
       "      <td>Zhulkarnain Abdul Rahim</td>\n",
       "      <td>[People's Action Party]</td>\n",
       "      <td>(14,)</td>\n",
       "    </tr>\n",
       "  </tbody>\n",
       "</table>\n",
       "<p>186 rows × 3 columns</p>\n",
       "</div>"
      ],
      "text/plain": [
       "                        Name                             Party  \\\n",
       "0                Abdul Samad                                []   \n",
       "1            Alex Yam Ziming           [People's Action Party]   \n",
       "2                  Alvin Tan           [People's Action Party]   \n",
       "3                  Alvin Yeo           [People's Action Party]   \n",
       "4                 Amrin Amin           [People's Action Party]   \n",
       "..                       ...                               ...   \n",
       "181              Yip Pin Xiu  [Nominated Member of Parliament]   \n",
       "182            Zainal Sapari           [People's Action Party]   \n",
       "183          Zainudin Nordin           [People's Action Party]   \n",
       "184             Zaqy Mohamad           [People's Action Party]   \n",
       "185  Zhulkarnain Abdul Rahim           [People's Action Party]   \n",
       "\n",
       "          Parliaments  \n",
       "0               (14,)  \n",
       "1        (12, 13, 14)  \n",
       "2               (14,)  \n",
       "3            (11, 12)  \n",
       "4               (13,)  \n",
       "..                ...  \n",
       "181             (13,)  \n",
       "182          (12, 13)  \n",
       "183      (10, 11, 12)  \n",
       "184  (11, 12, 13, 14)  \n",
       "185             (14,)  \n",
       "\n",
       "[186 rows x 3 columns]"
      ]
     },
     "execution_count": 11,
     "metadata": {},
     "output_type": "execute_result"
    }
   ],
   "source": [
    "dataframe"
   ]
  },
  {
   "cell_type": "code",
   "execution_count": 12,
   "metadata": {},
   "outputs": [],
   "source": [
    "dataframe.to_csv('mps.csv', index=False)"
   ]
  }
 ],
 "metadata": {
  "kernelspec": {
   "display_name": "Python 3 (ipykernel)",
   "language": "python",
   "name": "python3"
  },
  "language_info": {
   "codemirror_mode": {
    "name": "ipython",
    "version": 3
   },
   "file_extension": ".py",
   "mimetype": "text/x-python",
   "name": "python",
   "nbconvert_exporter": "python",
   "pygments_lexer": "ipython3",
   "version": "3.10.4"
  }
 },
 "nbformat": 4,
 "nbformat_minor": 4
}
