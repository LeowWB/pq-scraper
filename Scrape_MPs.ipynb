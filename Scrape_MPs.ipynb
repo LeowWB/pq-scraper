{
 "cells": [
  {
   "cell_type": "markdown",
   "metadata": {},
   "source": [
    "sometimes code is too fast for browser driver. in such cases, try increasing sleep time."
   ]
  },
  {
   "cell_type": "code",
   "execution_count": 1,
   "metadata": {},
   "outputs": [],
   "source": [
    "from bs4 import BeautifulSoup as bs \n",
    "import math\n",
    "from selenium import webdriver\n",
    "from selenium.webdriver.common.by import By\n",
    "from selenium.webdriver.common.keys import Keys\n",
    "import time \n",
    "import os\n",
    "import pandas as pd"
   ]
  },
  {
   "cell_type": "code",
   "execution_count": 2,
   "metadata": {},
   "outputs": [],
   "source": [
    "DRIVER_PATH = 'C:/Users/thisi/Documents/GitHub/pq-scraper/chromedriver_win32/chromedriver.exe'"
   ]
  },
  {
   "cell_type": "code",
   "execution_count": 3,
   "metadata": {},
   "outputs": [
    {
     "name": "stderr",
     "output_type": "stream",
     "text": [
      "C:\\Users\\thisi\\AppData\\Local\\Temp\\ipykernel_3680\\1172286970.py:30: DeprecationWarning: executable_path has been deprecated, please pass in a Service object\n",
      "  driver = webdriver.Chrome(DRIVER_PATH)\n"
     ]
    },
    {
     "name": "stdout",
     "output_type": "stream",
     "text": [
      "Total of 14 parliaments\n"
     ]
    }
   ],
   "source": [
    "def element_completely_viewable(driver, elem):\n",
    "    elem_left_bound = elem.location.get('x')\n",
    "    elem_top_bound = elem.location.get('y')\n",
    "    elem_width = elem.size.get('width')\n",
    "    elem_height = elem.size.get('height')\n",
    "    elem_right_bound = elem_left_bound + elem_width\n",
    "    elem_lower_bound = elem_top_bound + elem_height\n",
    "\n",
    "    win_upper_bound = driver.execute_script('return window.pageYOffset')\n",
    "    win_left_bound = driver.execute_script('return window.pageXOffset')\n",
    "    win_width = driver.execute_script('return document.documentElement.clientWidth')\n",
    "    win_height = driver.execute_script('return document.documentElement.clientHeight')\n",
    "    win_right_bound = win_left_bound + win_width\n",
    "    win_lower_bound = win_upper_bound + win_height\n",
    "\n",
    "    return all((win_left_bound <= elem_left_bound,\n",
    "                win_right_bound >= elem_right_bound,\n",
    "                win_upper_bound <= elem_top_bound,\n",
    "                win_lower_bound >= elem_lower_bound)\n",
    "              )\n",
    "\n",
    "def find_and_click(driver, elem):\n",
    "    y_height = 0\n",
    "    while not element_completely_viewable(driver, elem):\n",
    "        driver.execute_script(f\"window.scrollTo(0, {y_height})\") \n",
    "        y_height += 100\n",
    "        time.sleep(0.5)\n",
    "    elem.click()\n",
    "\n",
    "driver = webdriver.Chrome(DRIVER_PATH) \n",
    " \n",
    "page_url = 'https://www.parliament.gov.sg/history/list-of-mps-by-parliament' \n",
    "driver.get(page_url) \n",
    "driver.maximize_window() \n",
    "driver.implicitly_wait(20) \n",
    "time.sleep(2) \n",
    "\n",
    "parliament_combobox = driver.find_element(\n",
    "    by=By.ID,\n",
    "    value='Parliament'\n",
    ")\n",
    "\n",
    "num_parliaments = int(parliament_combobox.get_attribute('childElementCount'))\n",
    "print(f'Total of {num_parliaments} parliaments')\n"
   ]
  },
  {
   "cell_type": "code",
   "execution_count": 4,
   "metadata": {},
   "outputs": [
    {
     "name": "stdout",
     "output_type": "stream",
     "text": [
      "Looking at parliament 1\n",
      "Found 64 MPs\n",
      "Looking at parliament 2\n",
      "Found 64 MPs\n",
      "Looking at parliament 3\n",
      "Found 65 MPs\n",
      "Looking at parliament 4\n",
      "Found 78 MPs\n",
      "Looking at parliament 5\n",
      "Found 76 MPs\n",
      "Looking at parliament 6\n",
      "Found 79 MPs\n",
      "Looking at parliament 7\n",
      "Found 84 MPs\n",
      "Looking at parliament 8\n",
      "Found 92 MPs\n",
      "Looking at parliament 9\n",
      "Found 99 MPs\n",
      "Looking at parliament 10\n",
      "Found 103 MPs\n",
      "Looking at parliament 11\n",
      "Found 103 MPs\n",
      "Looking at parliament 12\n",
      "Found 110 MPs\n",
      "Looking at parliament 13\n",
      "Found 111 MPs\n",
      "Looking at parliament 14\n",
      "Found 102 MPs\n"
     ]
    }
   ],
   "source": [
    "mps = []\n",
    "\n",
    "for parliament_index in range(1, num_parliaments + 1):\n",
    "    # need this line of code to prevent stale element reference. not sure why but just keep it. \n",
    "    parliament_combobox = driver.find_element(\n",
    "        by=By.ID,\n",
    "        value='Parliament'\n",
    "    )\n",
    "\n",
    "    current_parliament_option = driver.find_element(\n",
    "        by=By.XPATH,\n",
    "        value=f'//*[@id=\"Parliament\"]/option[{parliament_index}]'\n",
    "    )\n",
    "    \n",
    "    find_and_click(driver, parliament_combobox)\n",
    "    time.sleep(0.5)\n",
    "    find_and_click(driver, current_parliament_option)\n",
    "    time.sleep(2)\n",
    "    \n",
    "    print(f'Looking at parliament {parliament_index}')\n",
    "    \n",
    "    full_table = driver.find_element(\n",
    "        by=By.XPATH,\n",
    "        value='/html/body/form/div[3]/div[2]/div[2]/div[1]/div[3]/ul'\n",
    "    )\n",
    "    \n",
    "    num_rows = int(full_table.get_attribute('childElementCount'))\n",
    "    print(f'Found {num_rows} MPs')\n",
    "    \n",
    "    mps_this_parliament = []\n",
    "    \n",
    "    for i in range(1, num_rows+1):\n",
    "        name_div = driver.find_element(\n",
    "            by=By.XPATH,\n",
    "            value=f'/html/body/form/div[3]/div[2]/div[2]/div[1]/div[3]/ul/li[{i}]/div/div[1]/div[2]'\n",
    "        )\n",
    "        \n",
    "        party_div = driver.find_element(\n",
    "            by=By.XPATH,\n",
    "            value=f'/html/body/form/div[3]/div[2]/div[2]/div[1]/div[3]/ul/li[{i}]/div/div[2]'\n",
    "        )\n",
    "        \n",
    "        legis_assembly_div = driver.find_element(\n",
    "            by=By.XPATH,\n",
    "            value=f'/html/body/form/div[3]/div[2]/div[2]/div[1]/div[3]/ul/li[{i}]/div/div[3]'\n",
    "        )\n",
    "        \n",
    "        also_in_div = driver.find_element(\n",
    "            by=By.XPATH,\n",
    "            value=f'/html/body/form/div[3]/div[2]/div[2]/div[1]/div[3]/ul/li[{i}]/div/div[4]'\n",
    "        )\n",
    "        \n",
    "        name, party, legis_assembly, also_in = list(map(\n",
    "            lambda div: div.get_attribute('innerHTML').strip(),\n",
    "            [name_div, party_div, legis_assembly_div, also_in_div]\n",
    "        ))\n",
    "        \n",
    "        other_parl_nums = []\n",
    "        \n",
    "        if legis_assembly:\n",
    "            other_parl_nums.append(0) # 0 denotes legislative assembly\n",
    "        \n",
    "        for other_parl in also_in.split(', '):\n",
    "            other_parl_num = int(other_parl[:-2])\n",
    "            other_parl_nums.append(other_parl_num)\n",
    "        \n",
    "        mps_this_parliament.append((name, party, tuple(other_parl_nums)))\n",
    "    \n",
    "    mps += mps_this_parliament"
   ]
  },
  {
   "cell_type": "code",
   "execution_count": 5,
   "metadata": {
    "tags": []
   },
   "outputs": [
    {
     "name": "stdout",
     "output_type": "stream",
     "text": [
      "1230 entries\n",
      "452 unique enetries\n"
     ]
    }
   ],
   "source": [
    "print(f'{len(mps)} entries')\n",
    "print(f'{len(set(mps))} unique enetries')"
   ]
  },
  {
   "cell_type": "code",
   "execution_count": 6,
   "metadata": {},
   "outputs": [
    {
     "data": {
      "text/html": [
       "<div>\n",
       "<style scoped>\n",
       "    .dataframe tbody tr th:only-of-type {\n",
       "        vertical-align: middle;\n",
       "    }\n",
       "\n",
       "    .dataframe tbody tr th {\n",
       "        vertical-align: top;\n",
       "    }\n",
       "\n",
       "    .dataframe thead th {\n",
       "        text-align: right;\n",
       "    }\n",
       "</style>\n",
       "<table border=\"1\" class=\"dataframe\">\n",
       "  <thead>\n",
       "    <tr style=\"text-align: right;\">\n",
       "      <th></th>\n",
       "      <th>Name</th>\n",
       "      <th>Party</th>\n",
       "      <th>Parliaments</th>\n",
       "    </tr>\n",
       "  </thead>\n",
       "  <tbody>\n",
       "    <tr>\n",
       "      <th>0</th>\n",
       "      <td>Ho Tat Kin</td>\n",
       "      <td>People's Action Party</td>\n",
       "      <td>(6, 7, 8, 9)</td>\n",
       "    </tr>\n",
       "    <tr>\n",
       "      <th>1</th>\n",
       "      <td>Mary Liew</td>\n",
       "      <td>Nominated Member of Parliament</td>\n",
       "      <td>(12,)</td>\n",
       "    </tr>\n",
       "    <tr>\n",
       "      <th>2</th>\n",
       "      <td>Kow Kee Seng</td>\n",
       "      <td>Barisan Sosialis</td>\n",
       "      <td>(1,)</td>\n",
       "    </tr>\n",
       "    <tr>\n",
       "      <th>3</th>\n",
       "      <td>Anthea Ong</td>\n",
       "      <td>Nominated Member of Parliament</td>\n",
       "      <td>(13,)</td>\n",
       "    </tr>\n",
       "    <tr>\n",
       "      <th>4</th>\n",
       "      <td>Zaqy Mohamad</td>\n",
       "      <td>People’s Action Party</td>\n",
       "      <td>(11, 12, 13, 14)</td>\n",
       "    </tr>\n",
       "    <tr>\n",
       "      <th>...</th>\n",
       "      <td>...</td>\n",
       "      <td>...</td>\n",
       "      <td>...</td>\n",
       "    </tr>\n",
       "    <tr>\n",
       "      <th>447</th>\n",
       "      <td>Tan Wu Meng</td>\n",
       "      <td>People's Action Party</td>\n",
       "      <td>(13, 14)</td>\n",
       "    </tr>\n",
       "    <tr>\n",
       "      <th>448</th>\n",
       "      <td>Ng Yeow Chong</td>\n",
       "      <td>People's Action Party</td>\n",
       "      <td>(1, 2, 3, 4)</td>\n",
       "    </tr>\n",
       "    <tr>\n",
       "      <th>449</th>\n",
       "      <td>Teo Hup Teck</td>\n",
       "      <td>People's Action Party</td>\n",
       "      <td>(1,)</td>\n",
       "    </tr>\n",
       "    <tr>\n",
       "      <th>450</th>\n",
       "      <td>Ow Chin Hock</td>\n",
       "      <td>People's Action Party</td>\n",
       "      <td>(4, 5, 6, 7, 8, 9)</td>\n",
       "    </tr>\n",
       "    <tr>\n",
       "      <th>451</th>\n",
       "      <td>Liang Eng Hwa</td>\n",
       "      <td>People’s Action Party</td>\n",
       "      <td>(11, 12, 13, 14)</td>\n",
       "    </tr>\n",
       "  </tbody>\n",
       "</table>\n",
       "<p>452 rows × 3 columns</p>\n",
       "</div>"
      ],
      "text/plain": [
       "              Name                           Party         Parliaments\n",
       "0       Ho Tat Kin           People's Action Party        (6, 7, 8, 9)\n",
       "1        Mary Liew  Nominated Member of Parliament               (12,)\n",
       "2     Kow Kee Seng                Barisan Sosialis                (1,)\n",
       "3       Anthea Ong  Nominated Member of Parliament               (13,)\n",
       "4     Zaqy Mohamad           People’s Action Party    (11, 12, 13, 14)\n",
       "..             ...                             ...                 ...\n",
       "447    Tan Wu Meng           People's Action Party            (13, 14)\n",
       "448  Ng Yeow Chong           People's Action Party        (1, 2, 3, 4)\n",
       "449   Teo Hup Teck           People's Action Party                (1,)\n",
       "450   Ow Chin Hock           People's Action Party  (4, 5, 6, 7, 8, 9)\n",
       "451  Liang Eng Hwa           People’s Action Party    (11, 12, 13, 14)\n",
       "\n",
       "[452 rows x 3 columns]"
      ]
     },
     "execution_count": 6,
     "metadata": {},
     "output_type": "execute_result"
    }
   ],
   "source": [
    "dataframe = pd.DataFrame(set(mps), columns=['Name','Party','Parliaments'])\n",
    "dataframe"
   ]
  },
  {
   "cell_type": "code",
   "execution_count": 7,
   "metadata": {},
   "outputs": [],
   "source": [
    "dataframe.to_csv('mps.csv')"
   ]
  }
 ],
 "metadata": {
  "kernelspec": {
   "display_name": "Python 3 (ipykernel)",
   "language": "python",
   "name": "python3"
  },
  "language_info": {
   "codemirror_mode": {
    "name": "ipython",
    "version": 3
   },
   "file_extension": ".py",
   "mimetype": "text/x-python",
   "name": "python",
   "nbconvert_exporter": "python",
   "pygments_lexer": "ipython3",
   "version": "3.10.4"
  }
 },
 "nbformat": 4,
 "nbformat_minor": 4
}
